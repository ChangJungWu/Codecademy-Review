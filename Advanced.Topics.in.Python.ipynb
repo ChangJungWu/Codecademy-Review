{
 "cells": [
  {
   "cell_type": "markdown",
   "metadata": {},
   "source": [
    "# Iteration Nation"
   ]
  },
  {
   "cell_type": "markdown",
   "metadata": {},
   "source": [
    "## 1. Iterator for Dictionaries"
   ]
  },
  {
   "cell_type": "markdown",
   "metadata": {},
   "source": [
    "Let's start with iterating over a dictionary. Recall that a dictionary is just a collection of keys and values."
   ]
  },
  {
   "cell_type": "code",
   "execution_count": 1,
   "metadata": {
    "collapsed": false
   },
   "outputs": [
    {
     "name": "stdout",
     "output_type": "stream",
     "text": [
      "[('BDFL', True), ('Age', 56), ('Name', 'Guido')]\n"
     ]
    }
   ],
   "source": [
    "d = {\n",
    "    \"Name\": \"Guido\",\n",
    "    \"Age\": 56,\n",
    "    \"BDFL\": True\n",
    "}\n",
    "print d.items()\n",
    "# => [('BDFL', True), ('Age', 56), ('Name', 'Guido')]"
   ]
  },
  {
   "cell_type": "markdown",
   "metadata": {},
   "source": [
    "Note that the items() function doesn't return key/value pairs in any specific order. "
   ]
  },
  {
   "cell_type": "markdown",
   "metadata": {},
   "source": [
    "### Example"
   ]
  },
  {
   "cell_type": "markdown",
   "metadata": {},
   "source": [
    "- Create your own Python dictionary, my_dict, in the editor to the right with two or three key/value pairs.\n",
    "- Then, print the result of calling the my_dict.items()."
   ]
  },
  {
   "cell_type": "code",
   "execution_count": 2,
   "metadata": {
    "collapsed": false
   },
   "outputs": [
    {
     "name": "stdout",
     "output_type": "stream",
     "text": [
      "[('genius', 'IS ME'), ('love', 'S.H.E')]\n"
     ]
    }
   ],
   "source": [
    "my_dict = {\"genius\": \"IS ME\", \"love\": \"S.H.E\"}\n",
    "print my_dict.items()"
   ]
  },
  {
   "cell_type": "markdown",
   "metadata": {},
   "source": []
  },
  {
   "cell_type": "markdown",
   "metadata": {},
   "source": [
    "## 2. keys() and values()"
   ]
  },
  {
   "cell_type": "markdown",
   "metadata": {},
   "source": [
    "Whereas items() returns an array of tuples with each tuple consisting of a key/value pair from the dictionary:\n",
    "\n",
    "- The keys() function returns an array of the dictionary's keys, and\n",
    "- The values() function returns an array of the dictionary's values.\n",
    "- Again, these functions will not return the keys or values from the dictionary in any specific order.\n",
    "\n",
    "You can think of a tuple as an immutable (that is, unchangeable) list (though this is an oversimplification); tuples are surrounded by ()s and can contain any data type."
   ]
  },
  {
   "cell_type": "markdown",
   "metadata": {},
   "source": [
    "### Example"
   ]
  },
  {
   "cell_type": "markdown",
   "metadata": {},
   "source": [
    "Remove your call to items() and replace it with a call to keys() and a call to values(), each on its own line. Make sure to print both!"
   ]
  },
  {
   "cell_type": "code",
   "execution_count": 3,
   "metadata": {
    "collapsed": false
   },
   "outputs": [
    {
     "name": "stdout",
     "output_type": "stream",
     "text": [
      "['genius', 'love']\n",
      "['IS ME', 'S.H.E']\n"
     ]
    }
   ],
   "source": [
    "my_dict = {\"genius\": \"IS ME\", \"love\": \"S.H.E\"}\n",
    "\n",
    "print my_dict.keys()\n",
    "print my_dict.values()"
   ]
  },
  {
   "cell_type": "markdown",
   "metadata": {},
   "source": []
  },
  {
   "cell_type": "markdown",
   "metadata": {
    "collapsed": true
   },
   "source": [
    "## 3. The 'in' Operator"
   ]
  },
  {
   "cell_type": "markdown",
   "metadata": {},
   "source": [
    "For iterating over lists, tuples, dictionaries, and strings, Python also includes a special keyword: in. You can use in very intuitively, like so:"
   ]
  },
  {
   "cell_type": "code",
   "execution_count": 4,
   "metadata": {
    "collapsed": false
   },
   "outputs": [
    {
     "name": "stdout",
     "output_type": "stream",
     "text": [
      "0 1 2 3 4 age 26 name Eric E r i c\n"
     ]
    }
   ],
   "source": [
    "for number in range(5):\n",
    "    print number,\n",
    "\n",
    "d = { \"name\": \"Eric\", \"age\": 26 }\n",
    "for key in d:\n",
    "    print key, d[key],\n",
    "\n",
    "for letter in \"Eric\":\n",
    "    print letter,  # note the comma!"
   ]
  },
  {
   "cell_type": "markdown",
   "metadata": {},
   "source": [
    "- In the example above, first we create and iterate through a range, printing out 0 1 2 3 4. Note that the trailing comma ensures that we keep printing on the same line.\n",
    "- Next, we create a dictionary and iterate through, printing out age 26 name Eric. Dictionaries have no specific order.\n",
    "- Finally, we iterate through the letters of a string, printing out E r i c."
   ]
  },
  {
   "cell_type": "markdown",
   "metadata": {},
   "source": [
    "### Example"
   ]
  },
  {
   "cell_type": "markdown",
   "metadata": {},
   "source": [
    "For each key in my_dict: print out the key , then a space, then the value stored by that key.\n",
    "\n",
    "(You should use print a, b rather than print a + \" \" + b.)"
   ]
  },
  {
   "cell_type": "code",
   "execution_count": 5,
   "metadata": {
    "collapsed": false
   },
   "outputs": [
    {
     "name": "stdout",
     "output_type": "stream",
     "text": [
      "genius IS ME\n",
      "love S.H.E\n"
     ]
    }
   ],
   "source": [
    "my_dict = {\"genius\": \"IS ME\", \"love\": \"S.H.E\"}\n",
    "\n",
    "for item in my_dict:\n",
    "    print item, my_dict[item]"
   ]
  },
  {
   "cell_type": "markdown",
   "metadata": {},
   "source": []
  },
  {
   "cell_type": "markdown",
   "metadata": {
    "collapsed": true
   },
   "source": []
  },
  {
   "cell_type": "markdown",
   "metadata": {
    "collapsed": true
   },
   "source": [
    "# List Comprehensions"
   ]
  },
  {
   "cell_type": "markdown",
   "metadata": {},
   "source": [
    "## 4. Building Lists"
   ]
  },
  {
   "cell_type": "markdown",
   "metadata": {},
   "source": [
    "Let's say you wanted to build a list of the numbers from 0 to 50 (inclusive). We could do this pretty easily:"
   ]
  },
  {
   "cell_type": "code",
   "execution_count": null,
   "metadata": {
    "collapsed": true
   },
   "outputs": [],
   "source": [
    "my_list = range(51)"
   ]
  },
  {
   "cell_type": "markdown",
   "metadata": {
    "collapsed": true
   },
   "source": [
    "But what if we wanted to generate a list according to some logic—for example, a list of all the even numbers from 0 to 50?\n",
    "\n",
    "Python's answer to this is the list comprehension. **List comprehensions** are a powerful way to generate lists using the for/in and if keywords we've learned."
   ]
  },
  {
   "cell_type": "code",
   "execution_count": 6,
   "metadata": {
    "collapsed": false
   },
   "outputs": [
    {
     "name": "stdout",
     "output_type": "stream",
     "text": [
      "[0, 2, 4, 6, 8, 10, 12, 14, 16, 18, 20, 22, 24, 26, 28, 30, 32, 34, 36, 38, 40, 42, 44, 46, 48, 50]\n"
     ]
    }
   ],
   "source": [
    "evens_to_50 = [i for i in range(51) if i % 2 == 0]\n",
    "print evens_to_50"
   ]
  },
  {
   "cell_type": "markdown",
   "metadata": {},
   "source": []
  },
  {
   "cell_type": "markdown",
   "metadata": {},
   "source": [
    "## 5. List Comprehension Syntax"
   ]
  },
  {
   "cell_type": "markdown",
   "metadata": {},
   "source": [
    "Here's a simple example of list comprehension syntax:"
   ]
  },
  {
   "cell_type": "code",
   "execution_count": 7,
   "metadata": {
    "collapsed": true
   },
   "outputs": [],
   "source": [
    "new_list = [x for x in range(1,6)]\n",
    "# => [1, 2, 3, 4, 5]"
   ]
  },
  {
   "cell_type": "markdown",
   "metadata": {},
   "source": [
    "This will create a new_list populated by the numbers one to five. If you want those numbers doubled, you could use:"
   ]
  },
  {
   "cell_type": "code",
   "execution_count": 8,
   "metadata": {
    "collapsed": true
   },
   "outputs": [],
   "source": [
    "doubles = [x*2 for x in range(1,6)]\n",
    "# => [2, 4, 6, 8, 10]"
   ]
  },
  {
   "cell_type": "markdown",
   "metadata": {},
   "source": [
    "And if you only wanted the doubled numbers that are evenly divisible by three:"
   ]
  },
  {
   "cell_type": "code",
   "execution_count": 9,
   "metadata": {
    "collapsed": true
   },
   "outputs": [],
   "source": [
    "doubles_by_3 = [x*2 for x in range(1,6) if (x*2)%3 == 0]\n",
    "# => [6]"
   ]
  },
  {
   "cell_type": "markdown",
   "metadata": {},
   "source": [
    "### Example"
   ]
  },
  {
   "cell_type": "markdown",
   "metadata": {},
   "source": [
    "- Use a list comprehension to build a list called even_squares in the editor.\n",
    "- Your even_squares list should include the squares of the even numbers between 1 to 11. Your list should start [4, 16, 36...] and go from there."
   ]
  },
  {
   "cell_type": "code",
   "execution_count": 10,
   "metadata": {
    "collapsed": false
   },
   "outputs": [
    {
     "name": "stdout",
     "output_type": "stream",
     "text": [
      "[4, 16, 36, 64, 100]\n"
     ]
    }
   ],
   "source": [
    "doubles_by_3 = [x*2 for x in range(1,6) if (x*2) % 3 == 0]\n",
    "\n",
    "# Complete the following line. Use the line above for help.\n",
    "even_squares = [x**2 for x in range(1,12) if x % 2 == 0]\n",
    "\n",
    "print even_squares"
   ]
  },
  {
   "cell_type": "markdown",
   "metadata": {},
   "source": []
  },
  {
   "cell_type": "markdown",
   "metadata": {
    "collapsed": true
   },
   "source": [
    "## 6. Now You Try!"
   ]
  },
  {
   "cell_type": "markdown",
   "metadata": {},
   "source": [
    "Great work! Now it's time for you to create a list comprehension all on your own."
   ]
  },
  {
   "cell_type": "code",
   "execution_count": 11,
   "metadata": {
    "collapsed": false
   },
   "outputs": [
    {
     "name": "stdout",
     "output_type": "stream",
     "text": [
      "['C', 'C', 'C']\n"
     ]
    }
   ],
   "source": [
    "c = ['C' for x in range(5) if x < 3]\n",
    "print c"
   ]
  },
  {
   "cell_type": "markdown",
   "metadata": {},
   "source": [
    "The example above creates and prints out a list containing ['C', 'C', 'C']."
   ]
  },
  {
   "cell_type": "markdown",
   "metadata": {},
   "source": [
    "### Example"
   ]
  },
  {
   "cell_type": "markdown",
   "metadata": {},
   "source": [
    "- Use a list comprehension to create a list, cubes_by_four.\n",
    "- The comprehension should consist of the cubes of the numbers 1 through 10 only if the cube is evenly divisible by four.\n",
    "- Finally, print that list to the console.\n",
    "\n",
    "Note that in this case, the cubed number should be evenly divisible by 4, not the original number."
   ]
  },
  {
   "cell_type": "markdown",
   "metadata": {},
   "source": []
  },
  {
   "cell_type": "markdown",
   "metadata": {
    "collapsed": true
   },
   "source": []
  },
  {
   "cell_type": "markdown",
   "metadata": {
    "collapsed": true
   },
   "source": [
    "# List Slicing "
   ]
  },
  {
   "cell_type": "markdown",
   "metadata": {},
   "source": [
    "## 7. List Slicing Syntax"
   ]
  },
  {
   "cell_type": "markdown",
   "metadata": {},
   "source": [
    "Sometimes we only want part of a Python list. Maybe we only want the first few elements; maybe we only want the last few. Maybe we want every other element!\n",
    "\n",
    "List slicing allows us to access elements of a list in a concise manner. The syntax looks like this:"
   ]
  },
  {
   "cell_type": "code",
   "execution_count": null,
   "metadata": {
    "collapsed": true
   },
   "outputs": [],
   "source": [
    "[start:end:stride]"
   ]
  },
  {
   "cell_type": "markdown",
   "metadata": {},
   "source": [
    "Where start describes where the slice **starts (inclusive), end is where it ends (exclusive)**, and stride describes the space between items in the sliced list. For example, a stride of 2 would select every other item from the original list to place in the sliced list."
   ]
  },
  {
   "cell_type": "code",
   "execution_count": 12,
   "metadata": {
    "collapsed": false
   },
   "outputs": [
    {
     "name": "stdout",
     "output_type": "stream",
     "text": [
      "[9, 25, 49, 81]\n"
     ]
    }
   ],
   "source": [
    "l = [i ** 2 for i in range(1, 11)]\n",
    "# Should be [1, 4, 9, 16, 25, 36, 49, 64, 81, 100]\n",
    "\n",
    "print l[2:9:2]"
   ]
  },
  {
   "cell_type": "markdown",
   "metadata": {},
   "source": []
  },
  {
   "cell_type": "markdown",
   "metadata": {},
   "source": [
    "## 8. Omitting Indices"
   ]
  },
  {
   "cell_type": "markdown",
   "metadata": {},
   "source": [
    "If you don't pass a particular index to the list slice, Python will pick a default."
   ]
  },
  {
   "cell_type": "code",
   "execution_count": 1,
   "metadata": {
    "collapsed": false
   },
   "outputs": [
    {
     "name": "stdout",
     "output_type": "stream",
     "text": [
      "['D', 'E']\n",
      "['A', 'B']\n",
      "['A', 'C', 'E']\n"
     ]
    }
   ],
   "source": [
    "to_five = ['A', 'B', 'C', 'D', 'E']\n",
    "\n",
    "print to_five[3:]\n",
    "# prints ['D', 'E'] \n",
    "\n",
    "print to_five[:2]\n",
    "# prints ['A', 'B']\n",
    "\n",
    "print to_five[::2]\n",
    "# print ['A', 'C', 'E']"
   ]
  },
  {
   "cell_type": "markdown",
   "metadata": {},
   "source": [
    "- The default starting index is 0.\n",
    "- The default ending index is the end of the list.\n",
    "- The default stride is 1."
   ]
  },
  {
   "cell_type": "markdown",
   "metadata": {},
   "source": [
    "### Example"
   ]
  },
  {
   "cell_type": "markdown",
   "metadata": {},
   "source": [
    "- Use list slicing to print out every odd element of my_list from start to finish.\n",
    "- Omit the start and end index. You only need to specify a stride."
   ]
  },
  {
   "cell_type": "code",
   "execution_count": null,
   "metadata": {
    "collapsed": true
   },
   "outputs": [],
   "source": []
  },
  {
   "cell_type": "markdown",
   "metadata": {},
   "source": []
  },
  {
   "cell_type": "markdown",
   "metadata": {},
   "source": [
    "## 9. Reversing a List"
   ]
  },
  {
   "cell_type": "markdown",
   "metadata": {},
   "source": [
    "We have seen that a positive stride progresses through the list from left to right.\n",
    "\n",
    "A negative stride progresses through the list from right to left."
   ]
  },
  {
   "cell_type": "code",
   "execution_count": 15,
   "metadata": {
    "collapsed": false
   },
   "outputs": [
    {
     "name": "stdout",
     "output_type": "stream",
     "text": [
      "['E', 'D', 'C', 'B', 'A']\n"
     ]
    }
   ],
   "source": [
    "letters = ['A', 'B', 'C', 'D', 'E']\n",
    "print letters[::-1]"
   ]
  },
  {
   "cell_type": "markdown",
   "metadata": {},
   "source": [
    "In the example above, we print out ['E', 'D', 'C', 'B', 'A']."
   ]
  },
  {
   "cell_type": "markdown",
   "metadata": {},
   "source": [
    "### Example"
   ]
  },
  {
   "cell_type": "markdown",
   "metadata": {},
   "source": [
    "- Create a variable called backwards and set it equal to the reversed version of my_list.\n",
    "- Make sure to reverse the list in the editor by passing your list slice a negative stride, like in the example above."
   ]
  },
  {
   "cell_type": "code",
   "execution_count": 17,
   "metadata": {
    "collapsed": false
   },
   "outputs": [
    {
     "name": "stdout",
     "output_type": "stream",
     "text": [
      "[10, 9, 8, 7, 6, 5, 4, 3, 2, 1]\n"
     ]
    }
   ],
   "source": [
    "my_list = range(1, 11)\n",
    "\n",
    "# Add your code below!\n",
    "backwards = my_list[::-1]\n",
    "print backwards"
   ]
  },
  {
   "cell_type": "markdown",
   "metadata": {},
   "source": []
  },
  {
   "cell_type": "markdown",
   "metadata": {},
   "source": [
    "## 10. Stride Length"
   ]
  },
  {
   "cell_type": "markdown",
   "metadata": {},
   "source": [
    "A positive stride length traverses the list from left to right, and a negative one traverses the list from right to left.\n",
    "\n",
    "Further, a stride length of 1 traverses the list \"by ones,\" a stride length of 2 traverses the list \"by twos,\" and so on."
   ]
  },
  {
   "cell_type": "markdown",
   "metadata": {},
   "source": [
    "### Example"
   ]
  },
  {
   "cell_type": "markdown",
   "metadata": {},
   "source": [
    "Create a variable, backwards_by_tens, and set it equal to the result of going backwards through to_one_hundred by tens. Go ahead and print backwards_by_tens to the console."
   ]
  },
  {
   "cell_type": "code",
   "execution_count": 18,
   "metadata": {
    "collapsed": false
   },
   "outputs": [
    {
     "name": "stdout",
     "output_type": "stream",
     "text": [
      "[100, 90, 80, 70, 60, 50, 40, 30, 20, 10, 0]\n"
     ]
    }
   ],
   "source": [
    "to_one_hundred = range(101)\n",
    "# Add your code below!\n",
    "backwards_by_tens = to_one_hundred[::-10]\n",
    "print backwards_by_tens"
   ]
  },
  {
   "cell_type": "markdown",
   "metadata": {},
   "source": []
  },
  {
   "cell_type": "markdown",
   "metadata": {
    "collapsed": true
   },
   "source": [
    "## 11. Practice Makes Perfect"
   ]
  },
  {
   "cell_type": "markdown",
   "metadata": {},
   "source": [
    "Great work! See? This list slicing business is pretty straightforward.\n",
    "\n",
    "Let's do one more, just to prove you really know your stuff."
   ]
  },
  {
   "cell_type": "markdown",
   "metadata": {},
   "source": [
    "### Example"
   ]
  },
  {
   "cell_type": "markdown",
   "metadata": {
    "collapsed": true
   },
   "source": [
    "- Create a list, to_21, that's just the numbers from 1 to 21, inclusive.\n",
    "- Create a second list, odds, that contains only the odd numbers in the to_21 list (1, 3, 5, and so on). Use list slicing for this one instead of a list comprehension.\n",
    "- Finally, create a third list, middle_third, that's equal to the middle third of to_21, from 8 to 14, inclusive."
   ]
  },
  {
   "cell_type": "code",
   "execution_count": 22,
   "metadata": {
    "collapsed": false
   },
   "outputs": [
    {
     "name": "stdout",
     "output_type": "stream",
     "text": [
      "[1, 2, 3, 4, 5, 6, 7, 8, 9, 10, 11, 12, 13, 14, 15, 16, 17, 18, 19, 20, 21]\n",
      "[1, 3, 5, 7, 9, 11, 13, 15, 17, 19, 21]\n",
      "[8, 9, 10, 11, 12, 13, 14]\n"
     ]
    }
   ],
   "source": [
    "to_21 = range(1,22)\n",
    "print to_21\n",
    "\n",
    "odds = [x for x in to_21 if x % 2 ==1]\n",
    "print odds\n",
    "\n",
    "middle_third = to_21[7:14]\n",
    "print middle_third"
   ]
  },
  {
   "cell_type": "markdown",
   "metadata": {
    "collapsed": true
   },
   "source": []
  },
  {
   "cell_type": "markdown",
   "metadata": {
    "collapsed": true
   },
   "source": []
  },
  {
   "cell_type": "markdown",
   "metadata": {
    "collapsed": true
   },
   "source": [
    "# Lambdas"
   ]
  },
  {
   "cell_type": "markdown",
   "metadata": {},
   "source": [
    "## 12. Anonymous Functions"
   ]
  },
  {
   "cell_type": "markdown",
   "metadata": {},
   "source": [
    "One of the more powerful aspects of Python is that it allows for a style of programming called ** functional programming**, which means that you're allowed to pass functions around just as if they were variables or values. Sometimes we take this for granted, but not all languages allow this!"
   ]
  },
  {
   "cell_type": "markdown",
   "metadata": {},
   "source": [
    "Check out the code at the right. See the lambda bit? Typing"
   ]
  },
  {
   "cell_type": "code",
   "execution_count": 2,
   "metadata": {
    "collapsed": false
   },
   "outputs": [
    {
     "data": {
      "text/plain": [
       "<function __main__.<lambda>>"
      ]
     },
     "execution_count": 2,
     "metadata": {},
     "output_type": "execute_result"
    }
   ],
   "source": [
    "lambda x: x % 3 == 0"
   ]
  },
  {
   "cell_type": "markdown",
   "metadata": {},
   "source": [
    "Is the same as"
   ]
  },
  {
   "cell_type": "code",
   "execution_count": 4,
   "metadata": {
    "collapsed": true
   },
   "outputs": [],
   "source": [
    "def by_three(x):\n",
    "    return x % 3 == 0"
   ]
  },
  {
   "cell_type": "markdown",
   "metadata": {},
   "source": [
    "Only we don't need to actually give the function a name; it does its work and returns a value without one. That's why the function the lambda creates is an **anonymous function**."
   ]
  },
  {
   "cell_type": "markdown",
   "metadata": {},
   "source": [
    "When we pass the lambda to filter, filter uses the lambda to determine what to filter, and the second argument (my_list, which is just the numbers 0 – 15) is the list it does the filtering on."
   ]
  },
  {
   "cell_type": "code",
   "execution_count": 5,
   "metadata": {
    "collapsed": false
   },
   "outputs": [
    {
     "name": "stdout",
     "output_type": "stream",
     "text": [
      "[0, 3, 6, 9, 12, 15]\n"
     ]
    }
   ],
   "source": [
    "my_list = range(16)\n",
    "print filter(lambda x: x % 3 == 0, my_list)"
   ]
  },
  {
   "cell_type": "markdown",
   "metadata": {},
   "source": []
  },
  {
   "cell_type": "markdown",
   "metadata": {},
   "source": [
    "## 13. Lambda Syntax"
   ]
  },
  {
   "cell_type": "markdown",
   "metadata": {},
   "source": [
    "Lambda functions are defined using the following syntax:"
   ]
  },
  {
   "cell_type": "code",
   "execution_count": 6,
   "metadata": {
    "collapsed": false
   },
   "outputs": [
    {
     "data": {
      "text/plain": [
       "[0, 3, 6, 9, 12, 15]"
      ]
     },
     "execution_count": 6,
     "metadata": {},
     "output_type": "execute_result"
    }
   ],
   "source": [
    "my_list = range(16)\n",
    "filter(lambda x: x % 3 == 0, my_list)"
   ]
  },
  {
   "cell_type": "markdown",
   "metadata": {},
   "source": [
    "Lambdas are useful when you need a quick function to do some work for you."
   ]
  },
  {
   "cell_type": "markdown",
   "metadata": {},
   "source": [
    "If you plan on creating a function you'll use over and over, you're better off using def and giving that function a name."
   ]
  },
  {
   "cell_type": "markdown",
   "metadata": {},
   "source": [
    "### Example"
   ]
  },
  {
   "cell_type": "markdown",
   "metadata": {},
   "source": [
    "- Fill in the first part of the filter function with a lambda. The lambda should ensure that only \"Python\" is returned by the filter.\n",
    "- Fill in the second part of the filter function with languages, the list to filter."
   ]
  },
  {
   "cell_type": "code",
   "execution_count": 8,
   "metadata": {
    "collapsed": false
   },
   "outputs": [
    {
     "name": "stdout",
     "output_type": "stream",
     "text": [
      "['Python']\n"
     ]
    }
   ],
   "source": [
    "languages = [\"HTML\", \"JavaScript\", \"Python\", \"Ruby\"]\n",
    "print filter(lambda word: word == \"Python\", languages)"
   ]
  },
  {
   "cell_type": "markdown",
   "metadata": {},
   "source": []
  },
  {
   "cell_type": "markdown",
   "metadata": {},
   "source": [
    "## 14. Try It!"
   ]
  },
  {
   "cell_type": "markdown",
   "metadata": {},
   "source": [
    "All right! Time to test out filter() and lambda expressions."
   ]
  },
  {
   "cell_type": "code",
   "execution_count": 9,
   "metadata": {
    "collapsed": false
   },
   "outputs": [
    {
     "data": {
      "text/plain": [
       "[27, 216, 729]"
      ]
     },
     "execution_count": 9,
     "metadata": {},
     "output_type": "execute_result"
    }
   ],
   "source": [
    "cubes = [x**3 for x in range(1, 11)]\n",
    "filter(lambda x: x % 3 == 0, cubes)"
   ]
  },
  {
   "cell_type": "markdown",
   "metadata": {},
   "source": [
    "The example above is just a reminder of the syntax."
   ]
  },
  {
   "cell_type": "markdown",
   "metadata": {},
   "source": [
    "### Example"
   ]
  },
  {
   "cell_type": "markdown",
   "metadata": {
    "collapsed": true
   },
   "source": [
    "- Create a list, squares, that consists of the squares of the numbers 1 to 10. A list comprehension could be useful here!\n",
    "- Use filter() and a lambda expression to print out only the squares that are between 30 and 70 (inclusive)."
   ]
  },
  {
   "cell_type": "code",
   "execution_count": 10,
   "metadata": {
    "collapsed": false
   },
   "outputs": [
    {
     "name": "stdout",
     "output_type": "stream",
     "text": [
      "[36, 49, 64]\n"
     ]
    }
   ],
   "source": [
    "squares = [x**2 for x in range(1,11)]\n",
    "\n",
    "print filter(lambda y: y >= 30 and y <= 70, squares)"
   ]
  },
  {
   "cell_type": "markdown",
   "metadata": {},
   "source": []
  },
  {
   "cell_type": "markdown",
   "metadata": {
    "collapsed": true
   },
   "source": []
  },
  {
   "cell_type": "markdown",
   "metadata": {
    "collapsed": true
   },
   "source": [
    "## Review"
   ]
  },
  {
   "cell_type": "markdown",
   "metadata": {},
   "source": [
    "## 15. Iterating Over Dictionaries"
   ]
  },
  {
   "cell_type": "markdown",
   "metadata": {},
   "source": [
    "First, let's review iterating over a dict."
   ]
  },
  {
   "cell_type": "markdown",
   "metadata": {},
   "source": [
    "### Example"
   ]
  },
  {
   "cell_type": "markdown",
   "metadata": {
    "collapsed": true
   },
   "source": [
    "Call the appropriate method on movies such that it will print out all the items (hint, hint) in the dictionary—that is, each key and each value."
   ]
  },
  {
   "cell_type": "code",
   "execution_count": 13,
   "metadata": {
    "collapsed": false
   },
   "outputs": [
    {
     "name": "stdout",
     "output_type": "stream",
     "text": [
      "[(\"Monty Python's Life of Brian\", 'Good'), (\"Monty Python's Meaning of Life\", 'Okay'), ('Monty Python and the Holy Grail', 'Great')]\n"
     ]
    }
   ],
   "source": [
    "movies = {\n",
    "\t\"Monty Python and the Holy Grail\": \"Great\",\n",
    "\t\"Monty Python's Life of Brian\": \"Good\",\n",
    "\t\"Monty Python's Meaning of Life\": \"Okay\"\n",
    "}\n",
    "\n",
    "print movies.items()"
   ]
  },
  {
   "cell_type": "markdown",
   "metadata": {},
   "source": []
  },
  {
   "cell_type": "markdown",
   "metadata": {
    "collapsed": true
   },
   "source": [
    "## 16. Comprehending Comprehensions"
   ]
  },
  {
   "cell_type": "markdown",
   "metadata": {},
   "source": [
    "Good! Now let's take another look at list comprehensions."
   ]
  },
  {
   "cell_type": "code",
   "execution_count": 14,
   "metadata": {
    "collapsed": true
   },
   "outputs": [],
   "source": [
    "squares = [x**2 for x in range(5)]"
   ]
  },
  {
   "cell_type": "markdown",
   "metadata": {},
   "source": [
    "### Example "
   ]
  },
  {
   "cell_type": "markdown",
   "metadata": {
    "collapsed": true
   },
   "source": [
    "Use a list comprehension to create a list, threes_and_fives, that consists only of the numbers between 1 and 15 (inclusive) that are evenly divisible by 3 or 5."
   ]
  },
  {
   "cell_type": "code",
   "execution_count": 19,
   "metadata": {
    "collapsed": false
   },
   "outputs": [
    {
     "name": "stdout",
     "output_type": "stream",
     "text": [
      "[3, 5, 6, 9, 10, 12, 15]\n"
     ]
    }
   ],
   "source": [
    "threes_and_fives = [x for x in range(1,16) if x % 3 == 0 or x % 5 ==0]\n",
    "print threes_and_fives"
   ]
  },
  {
   "cell_type": "markdown",
   "metadata": {},
   "source": []
  },
  {
   "cell_type": "markdown",
   "metadata": {},
   "source": [
    "## 17. List Slicing"
   ]
  },
  {
   "cell_type": "markdown",
   "metadata": {},
   "source": [
    "Great! Next up: list slicing."
   ]
  },
  {
   "cell_type": "code",
   "execution_count": 20,
   "metadata": {
    "collapsed": false
   },
   "outputs": [
    {
     "data": {
      "text/plain": [
       "'BDF'"
      ]
     },
     "execution_count": 20,
     "metadata": {},
     "output_type": "execute_result"
    }
   ],
   "source": [
    "str = \"ABCDEFGHIJ\"\n",
    "start, end, stride = 1, 6, 2\n",
    "str[start:end:stride]"
   ]
  },
  {
   "cell_type": "markdown",
   "metadata": {},
   "source": [
    "You can think of a Python string as a list of characters."
   ]
  },
  {
   "cell_type": "markdown",
   "metadata": {},
   "source": [
    "### Example"
   ]
  },
  {
   "cell_type": "markdown",
   "metadata": {},
   "source": [
    "The string in the editor is garbled in two ways:\n",
    "\n",
    "- First, our message is backwards;\n",
    "- Second, the letter we want is every other letter.\n",
    "- Use list slicing to extract the message and save it to a variable called message."
   ]
  },
  {
   "cell_type": "code",
   "execution_count": 26,
   "metadata": {
    "collapsed": false
   },
   "outputs": [
    {
     "name": "stdout",
     "output_type": "stream",
     "text": [
      "I am the secret message!\n"
     ]
    }
   ],
   "source": [
    "garbled = \"!XeXgXaXsXsXeXmX XtXeXrXcXeXsX XeXhXtX XmXaX XI\"\n",
    "\n",
    "reverse_garbled = garbled[::-1]\n",
    "message = reverse_garbled.replace(\"X\", \"\")\n",
    "print message"
   ]
  },
  {
   "cell_type": "markdown",
   "metadata": {},
   "source": []
  },
  {
   "cell_type": "markdown",
   "metadata": {},
   "source": [
    "## 18. Lambda Expressions"
   ]
  },
  {
   "cell_type": "markdown",
   "metadata": {},
   "source": [
    "Last but not least, let's look over some lambdas."
   ]
  },
  {
   "cell_type": "code",
   "execution_count": 27,
   "metadata": {
    "collapsed": false
   },
   "outputs": [
    {
     "data": {
      "text/plain": [
       "[0, 3, 6, 9, 12, 15]"
      ]
     },
     "execution_count": 27,
     "metadata": {},
     "output_type": "execute_result"
    }
   ],
   "source": [
    "my_list = range(16)\n",
    "filter(lambda x: x % 3 == 0, my_list)"
   ]
  },
  {
   "cell_type": "markdown",
   "metadata": {},
   "source": [
    "We've given you another (slightly different) garbled. Sort it out with a filter() and a lambda."
   ]
  },
  {
   "cell_type": "markdown",
   "metadata": {},
   "source": [
    "### Example"
   ]
  },
  {
   "cell_type": "markdown",
   "metadata": {},
   "source": [
    "- Create a new variable called message.\n",
    "- Set it to the result of calling filter() with the appropriate lambda that will filter out the \"X\"s. The second argument will be garbled.\n",
    "- Finally, print your message to the console."
   ]
  },
  {
   "cell_type": "code",
   "execution_count": 28,
   "metadata": {
    "collapsed": false
   },
   "outputs": [
    {
     "name": "stdout",
     "output_type": "stream",
     "text": [
      "I am another secret message!\n"
     ]
    }
   ],
   "source": [
    "garbled = \"IXXX aXXmX aXXXnXoXXXXXtXhXeXXXXrX sXXXXeXcXXXrXeXt mXXeXsXXXsXaXXXXXXgXeX!XX\"\n",
    "\n",
    "message = filter(lambda x: x != \"X\", garbled)\n",
    "print message"
   ]
  },
  {
   "cell_type": "markdown",
   "metadata": {},
   "source": []
  },
  {
   "cell_type": "markdown",
   "metadata": {},
   "source": []
  }
 ],
 "metadata": {
  "kernelspec": {
   "display_name": "Python 2",
   "language": "python",
   "name": "python2"
  },
  "language_info": {
   "codemirror_mode": {
    "name": "ipython",
    "version": 2
   },
   "file_extension": ".py",
   "mimetype": "text/x-python",
   "name": "python",
   "nbconvert_exporter": "python",
   "pygments_lexer": "ipython2",
   "version": "2.7.11"
  }
 },
 "nbformat": 4,
 "nbformat_minor": 0
}
